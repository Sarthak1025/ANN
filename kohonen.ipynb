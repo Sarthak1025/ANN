{
 "cells": [
  {
   "cell_type": "code",
   "execution_count": 15,
   "metadata": {},
   "outputs": [],
   "source": [
    "import pandas as pd\n",
    "import numpy as np"
   ]
  },
  {
   "cell_type": "code",
   "execution_count": 16,
   "metadata": {},
   "outputs": [
    {
     "name": "stdout",
     "output_type": "stream",
     "text": [
      "Enter the count of C's:\n"
     ]
    },
    {
     "name": "stdin",
     "output_type": "stream",
     "text": [
      " 2\n"
     ]
    }
   ],
   "source": [
    "print(\"Enter the count of C's:\")\n",
    "n= int(input())"
   ]
  },
  {
   "cell_type": "code",
   "execution_count": 17,
   "metadata": {},
   "outputs": [
    {
     "name": "stdout",
     "output_type": "stream",
     "text": [
      "Enter the count of u's:\n"
     ]
    },
    {
     "name": "stdin",
     "output_type": "stream",
     "text": [
      " 3\n"
     ]
    }
   ],
   "source": [
    "print(\"Enter the count of u's:\")\n",
    "m= int(input())\n",
    "rows, cols = (m, n)\n",
    "#for _ in range(n):"
   ]
  },
  {
   "cell_type": "code",
   "execution_count": 18,
   "metadata": {},
   "outputs": [
    {
     "name": "stdout",
     "output_type": "stream",
     "text": [
      "Enter weights.....\n"
     ]
    },
    {
     "name": "stdin",
     "output_type": "stream",
     "text": [
      " 0.9\n",
      " 0.7\n",
      " 0.6\n",
      " 0.4\n",
      " 0.3\n",
      " 0.5\n"
     ]
    },
    {
     "name": "stdout",
     "output_type": "stream",
     "text": [
      "[[0.9, 0.7, 0.6], [0.4, 0.3, 0.5]]\n"
     ]
    }
   ],
   "source": [
    "arr= []\n",
    "print(\"Enter weights.....\")\n",
    "for i in range(cols):\n",
    "    col = []\n",
    "    for j in range(rows):\n",
    "        col.append(float(input()))\n",
    "    arr.append(col)\n",
    "print(arr)"
   ]
  },
  {
   "cell_type": "code",
   "execution_count": 19,
   "metadata": {},
   "outputs": [
    {
     "name": "stdout",
     "output_type": "stream",
     "text": [
      "Enter the input vector:\n"
     ]
    },
    {
     "name": "stdin",
     "output_type": "stream",
     "text": [
      " 0.4\n",
      " 0.2\n",
      " 0.1\n"
     ]
    },
    {
     "name": "stdout",
     "output_type": "stream",
     "text": [
      "[0.4, 0.2, 0.1]\n"
     ]
    }
   ],
   "source": [
    "print(\"Enter the input vector:\")\n",
    "vec = []\n",
    "for k in range(rows):\n",
    "    vec.append(float(input()))\n",
    "print(vec)"
   ]
  },
  {
   "cell_type": "code",
   "execution_count": 20,
   "metadata": {},
   "outputs": [
    {
     "name": "stdout",
     "output_type": "stream",
     "text": [
      "Calculating the Euclidean Distance:\n",
      "[0.7499999999999999, 0.17000000000000007]\n"
     ]
    }
   ],
   "source": [
    "print(\"Calculating the Euclidean Distance:\")\n",
    "dist = []\n",
    "from scipy.spatial import distance\n",
    "for i in range(cols):\n",
    "    temp = arr[i]        \n",
    "    d = distance.euclidean(temp,vec)\n",
    "    d = d*d\n",
    "    dist.append(d)\n",
    "print(dist)"
   ]
  },
  {
   "cell_type": "code",
   "execution_count": 21,
   "metadata": {},
   "outputs": [],
   "source": [
    "index = dist.index(min(dist))"
   ]
  },
  {
   "cell_type": "code",
   "execution_count": 22,
   "metadata": {},
   "outputs": [
    {
     "name": "stdout",
     "output_type": "stream",
     "text": [
      "Value of J:  2\n"
     ]
    }
   ],
   "source": [
    "print(\"Value of J: \", index+1)"
   ]
  },
  {
   "cell_type": "code",
   "execution_count": 23,
   "metadata": {},
   "outputs": [
    {
     "name": "stdout",
     "output_type": "stream",
     "text": [
      "Enter the learning rate:\n"
     ]
    },
    {
     "name": "stdin",
     "output_type": "stream",
     "text": [
      " 0.2\n"
     ]
    },
    {
     "name": "stdout",
     "output_type": "stream",
     "text": [
      "Updated Weights are.................\n",
      "\n",
      "\n",
      " [[0.9, 0.7, 0.6], [0.4, 0.27999999999999997, 0.42]]\n"
     ]
    }
   ],
   "source": [
    "print(\"Enter the learning rate:\")\n",
    "a = float(input())\n",
    "print(\"Updated Weights are.................\")\n",
    "\n",
    "old = arr[index]\n",
    "new = [0]*m\n",
    "for i in range(m):\n",
    "    new[i] = old[i] + a * (vec[i] - old[i])\n",
    "#new[1] = old[1] + a * (vec[1] - old[1])\n",
    "    arr[index] = new\n",
    "print(\"\\n\\n\", arr)"
   ]
  },
  {
   "cell_type": "code",
   "execution_count": null,
   "metadata": {},
   "outputs": [],
   "source": []
  }
 ],
 "metadata": {
  "kernelspec": {
   "display_name": "Python 3",
   "language": "python",
   "name": "python3"
  },
  "language_info": {
   "codemirror_mode": {
    "name": "ipython",
    "version": 3
   },
   "file_extension": ".py",
   "mimetype": "text/x-python",
   "name": "python",
   "nbconvert_exporter": "python",
   "pygments_lexer": "ipython3",
   "version": "3.6.2"
  }
 },
 "nbformat": 4,
 "nbformat_minor": 4
}
